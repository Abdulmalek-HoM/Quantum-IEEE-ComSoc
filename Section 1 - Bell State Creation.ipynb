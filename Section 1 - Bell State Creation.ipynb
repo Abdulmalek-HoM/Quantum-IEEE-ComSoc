{
 "nbformat": 4,
 "nbformat_minor": 4,
 "metadata": {
  "kernelspec": {
   "display_name": "Python 3",
   "language": "python",
   "name": "python3"
  },
  "language_info": {
   "codemirror_mode": {
    "name": "ipython",
    "version": 3
   },
   "file_extension": ".py",
   "mimetype": "text/x-python",
   "name": "python",
   "nbconvert_exporter": "python",
   "pygments_lexer": "ipython3",
   "version": "3.8.10"
  }
 },
 "cells": [
  {
   "cell_type": "markdown",
   "metadata": {},
   "source": [
    "# Section 1: The Magic of Entanglement – Bell State Creation\n",
    "\n",
    "**Objective:** In this section, we will intuitively understand what entanglement is and build a fundamental entangled quantum circuit, known as a Bell state.\n",
    "\n",
    "---\n",
    "\n",
    "### Key Concepts:\n",
    "\n",
    "* **What is Entanglement?** Imagine two quantum particles that become intrinsically linked, no matter how far apart they are. Measuring the property of one instantaneously tells you about the property of the other. Einstein famously called this \"spooky action at a distance.\" It's like having two coins that, when flipped, *always* land on the same side, even if you flip them light-years apart, without any prior agreement.\n",
    "* **Why is Entanglement Important?** This unique quantum correlation is a fundamental resource. It's crucial for:\n",
    "    * **Quantum Communication:** Enabling ultra-secure communication through Quantum Key Distribution (QKD).\n",
    "    * **Quantum Teleportation:** Transferring quantum information from one location to another.\n",
    "    * **Quantum Computation:** Speeding up certain computations by creating complex relationships between qubits."
   ]
  },
  {
   "cell_type": "markdown",
   "metadata": {},
   "source": [
    "---\n",
    "\n",
    "### Building a Bell State Circuit (Intuitive Walkthrough)\n",
    "\n",
    "We will now construct the simplest entangled state, often called a **Bell state** (specifically, the $\\Phi^+$ Bell state). It involves just two qubits. Here's the recipe:\n",
    "\n",
    "1.  **Start with Two Qubits at $|0\\rangle$:** Our quantum circuit will begin with two qubits, both initialized in the $|0\\rangle$ state.\n",
    "2.  **Apply a Hadamard Gate (H) to Qubit 0:** This gate puts Qubit 0 into a superposition, meaning it's simultaneously $|0\\rangle$ and $|1\\rangle$ with equal probability. (Remember the coin spinning in the air?).\n",
    "3.  **Apply a Controlled-NOT (CNOT) Gate:** This is the magic gate for entanglement! It uses Qubit 0 (the one in superposition) as the 'control' and Qubit 1 as the 'target'.\n",
    "    * If Qubit 0 is $|0\\rangle$, Qubit 1 remains unchanged.\n",
    "    * If Qubit 0 is $|1\\rangle$, Qubit 1 *flips* (from $|0\\rangle$ to $|1\\rangle$).\n",
    "    * Because Qubit 0 is in superposition, this CNOT gate effectively links the two qubits' fates, creating entanglement.\n",
    "4.  **Measure Both Qubits:** We'll then measure both qubits. If they are truly entangled, we should only see outcomes where both qubits are the same (00 or 11), never different (01 or 10)."
   ]
  },
  {
   "cell_type": "markdown",
   "metadata": {},
   "source": [
    "### Implementation: Creating and Simulating the Bell State\n",
    "\n",
    "Let's put this into action with Qiskit."
   ]
  },
  {
   "metadata": {},
   "cell_type": "code",
   "source": [
    "%matplotlib inline\n",
    "# Import necessary Qiskit components (ensure these are consistent with Section 0)\n",
    "from qiskit import QuantumCircuit\n",
    "from qiskit_aer import AerSimulator # Corrected import path for AerSimulator\n",
    "from qiskit.visualization import plot_histogram\n",
    "import matplotlib.pyplot as plt\n",
    "\n",
    "# Create a Quantum Circuit with 2 qubits and 2 classical bits\n",
    "# The classical bits are where we'll store our measurement results\n",
    "qc_bell = QuantumCircuit(2, 2)\n",
    "\n",
    "# Apply a Hadamard gate to the first qubit (qubit 0)\n",
    "# This creates a superposition for qubit 0\n",
    "\n",
    "qc_bell.h(0)\n",
    "\n",
    "# Apply a CNOT gate with qubit 0 as control and qubit 1 as target\n",
    "# This entangles the two qubits\n",
    "qc_bell.cx(0, 1)\n",
    "\n",
    "# Measure both qubits\n",
    "# The first qubit's measurement goes to the first classical bit (0)\n",
    "# The second qubit's measurement goes to the second classical bit (1)\n",
    "qc_bell.measure([0, 1], [0, 1])\n",
    "\n",
    "# Draw the circuit using Matplotlib output\n",
    "print(\"Bell State Circuit Diagram (Graphical):\")\n",
    "qc_bell.draw(output=\"mpl\")\n",
    "plt.show()\n",
    "\n",
    "# Select the Aer simulator backend\n",
    "simulator = AerSimulator()\n",
    "\n",
    "# Execute the circuit on the simulator, running 1024 'shots' (repetitions)\n",
    "job = simulator.run(qc_bell, shots=1024)\n",
    "result = job.result()\n",
    "\n",
    "# Get the measurement counts\n",
    "counts = result.get_counts(qc_bell)\n",
    "\n",
    "print(\"\\nMeasurement Counts (should primarily show '00' and '11'):\")\n",
    "print(counts)\n",
    "\n",
    "# Plot the results to visualize the distribution\n",
    "plot_histogram(counts).set_size_inches(7, 5) # Adjust size for better viewing\n",
    "plt.title(\"Bell State Measurement Results\")\n",
    "plt.show()\n",
    "\n",
    "print(\"\\nNotice how the outcomes are predominantly '00' and '11', with very few or no '01' or '10' results. This is the signature of entanglement!\")"
   ],
   "outputs": [],
   "execution_count": null
  }
 ]
}
